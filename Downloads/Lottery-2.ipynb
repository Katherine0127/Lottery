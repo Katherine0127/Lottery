{
 "cells": [
  {
   "cell_type": "markdown",
   "id": "3a1d989d",
   "metadata": {},
   "source": [
    "Lottery"
   ]
  },
  {
   "cell_type": "markdown",
   "id": "051d5477",
   "metadata": {},
   "source": [
    "This is a program that generates six numbers for the lottery"
   ]
  },
  {
   "cell_type": "code",
   "execution_count": 1,
   "id": "660c9d5a",
   "metadata": {},
   "outputs": [],
   "source": [
    "import random"
   ]
  },
  {
   "cell_type": "code",
   "execution_count": 2,
   "id": "c61c423a",
   "metadata": {},
   "outputs": [
    {
     "name": "stdout",
     "output_type": "stream",
     "text": [
      "3\n"
     ]
    }
   ],
   "source": [
    "print (random.randint(1, 49))"
   ]
  },
  {
   "cell_type": "code",
   "execution_count": 4,
   "id": "9d2da9a3",
   "metadata": {},
   "outputs": [
    {
     "name": "stdout",
     "output_type": "stream",
     "text": [
      "42\n"
     ]
    }
   ],
   "source": [
    "print (random.randint(1, 49))"
   ]
  },
  {
   "cell_type": "code",
   "execution_count": 5,
   "id": "c314c49f",
   "metadata": {},
   "outputs": [
    {
     "name": "stdout",
     "output_type": "stream",
     "text": [
      "6\n"
     ]
    }
   ],
   "source": [
    "print (random.randint(1, 49))"
   ]
  },
  {
   "cell_type": "code",
   "execution_count": 6,
   "id": "54961a55",
   "metadata": {},
   "outputs": [
    {
     "name": "stdout",
     "output_type": "stream",
     "text": [
      "38\n"
     ]
    }
   ],
   "source": [
    "print (random.randint(1, 49))"
   ]
  },
  {
   "cell_type": "code",
   "execution_count": 10,
   "id": "fe5056af",
   "metadata": {},
   "outputs": [
    {
     "name": "stdout",
     "output_type": "stream",
     "text": [
      "18\n"
     ]
    }
   ],
   "source": [
    "print (random.randint(1, 49))"
   ]
  },
  {
   "cell_type": "code",
   "execution_count": 13,
   "id": "88d00493",
   "metadata": {},
   "outputs": [
    {
     "name": "stdout",
     "output_type": "stream",
     "text": [
      "36\n"
     ]
    }
   ],
   "source": [
    "print (random.randint(1, 49))"
   ]
  }
 ],
 "metadata": {
  "kernelspec": {
   "display_name": "Python 3 (ipykernel)",
   "language": "python",
   "name": "python3"
  },
  "language_info": {
   "codemirror_mode": {
    "name": "ipython",
    "version": 3
   },
   "file_extension": ".py",
   "mimetype": "text/x-python",
   "name": "python",
   "nbconvert_exporter": "python",
   "pygments_lexer": "ipython3",
   "version": "3.11.4"
  }
 },
 "nbformat": 4,
 "nbformat_minor": 5
}
